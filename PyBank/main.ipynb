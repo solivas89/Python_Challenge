{
 "cells": [
  {
   "cell_type": "code",
   "execution_count": 118,
   "metadata": {},
   "outputs": [],
   "source": [
    "import csv\n",
    "import os"
   ]
  },
  {
   "cell_type": "code",
   "execution_count": 119,
   "metadata": {},
   "outputs": [
    {
     "data": {
      "text/plain": [
       "'Resources\\\\budget_data.csv'"
      ]
     },
     "execution_count": 119,
     "metadata": {},
     "output_type": "execute_result"
    }
   ],
   "source": [
    "#setting the path\n",
    "budget_path = os.path.join(\"Resources\", \"budget_data.csv\")\n",
    "budget_path"
   ]
  },
  {
   "cell_type": "code",
   "execution_count": 125,
   "metadata": {
    "scrolled": true
   },
   "outputs": [],
   "source": [
    "#establish counts and set lists to append into\n",
    "total_months = 0\n",
    "net_amount = 0\n",
    "changes = []\n",
    "months = []\n",
    "\n",
    "#open read file path\n",
    "with open(budget_path) as csvfile:\n",
    "    csvreader = csv.reader(csvfile, delimiter=\",\")\n",
    "    \n",
    "    #skipping header row\n",
    "    header = next(csvreader)\n",
    "    \n",
    "    #loop through the data\n",
    "    for line in csvreader:\n",
    "        #need to calculate total_months\n",
    "        total_months += 1\n",
    "        \n",
    "        #need to calculate net_amount in [1]\n",
    "        net_amount += int(line[1])\n",
    "        \n",
    "        #need to establish previous months revenue\n",
    "        if total_months == 1:\n",
    "            prev_revenue = int(line[1])\n",
    "        \n",
    "        #need to append into changes and months index's for average_change calculation\n",
    "        if total_months > 1:\n",
    "            monthly_change = int(line[1])-prev_revenue\n",
    "            changes.append(monthly_change)\n",
    "            months.append(line[0])\n",
    "            prev_revenue = int(line[1])\n",
    "    \n",
    "    #calculate average_change    \n",
    "    for x in range(len(amount)):\n",
    "        changes.append(amount[x]-pre_revenue)\n",
    "        prev_revenue = amount[x]\n",
    "    average_change = sum(changes)/(total_months-1)      \n",
    "    \n",
    "    #need to find greatest increase in profits (date & amount) in changes index\n",
    "    grt_incr = max(changes)\n",
    "    grt_incr_date = (months[changes.index(max(changes))])\n",
    "    \n",
    "    grt_decr = min(changes)\n",
    "    grt_decr_date = (months[changes.index(min(changes))])\n",
    "    \n",
    "# print(total_months)\n",
    "# print(net_amount)    \n",
    "# print(len(changes), len(months))\n",
    "# print(average_change)\n",
    "# print(changes[0], months[0])\n",
    "# print(grt_decr)\n",
    "# print(grt_decr_date)"
   ]
  },
  {
   "cell_type": "code",
   "execution_count": 128,
   "metadata": {},
   "outputs": [
    {
     "name": "stdout",
     "output_type": "stream",
     "text": [
      "Financial Analysis\n",
      "----------------------------\n",
      "Total Months: 86\n",
      "Total: $38382578\n",
      "Average  Change: $-2315.12\n",
      "Greatest Increase in Profits: Feb-2012 ($1926159)\n",
      "Greatest Decrease in Profits: Sep-2013 ($-2196167)\n"
     ]
    }
   ],
   "source": [
    "#print out analysis\n",
    "print(\"Financial Analysis\")\n",
    "print(\"----------------------------\")\n",
    "print(f\"Total Months: {(total_months)}\")\n",
    "print(f\"Total: ${(net_amount)}\")\n",
    "print(f\"Average  Change: ${round((average_change),2)}\")\n",
    "print(f\"Greatest Increase in Profits: {grt_incr_date} (${grt_incr})\")\n",
    "print(f\"Greatest Decrease in Profits: {grt_decr_date} (${grt_decr})\")"
   ]
  },
  {
   "cell_type": "code",
   "execution_count": 129,
   "metadata": {},
   "outputs": [],
   "source": [
    "#write rows to txt file\n",
    "out_budget_path = os.path.join(\"Analysis\", \"PyBank.txt\")\n",
    "with open(out_budget_path, \"w\") as datafile:\n",
    "    writer = csv.writer(datafile,delimiter=\",\")\n",
    "    writer.writerow([\"Financial Analysis\"])\n",
    "    writer.writerow([\"----------------------------\"])\n",
    "    writer.writerow([f\"Total Months: {(total_months)}\"])\n",
    "    writer.writerow([f\"Total: ${(net_amount)}\"])\n",
    "    writer.writerow([f\"Greatest Increase in Profits: {grt_incr_date} (${grt_incr})\"])\n",
    "    writer.writerow([f\"Greatest Decrease in Profits: {grt_decr_date} (${grt_decr})\"])"
   ]
  },
  {
   "cell_type": "code",
   "execution_count": null,
   "metadata": {},
   "outputs": [],
   "source": []
  }
 ],
 "metadata": {
  "kernelspec": {
   "display_name": "Python 3",
   "language": "python",
   "name": "python3"
  },
  "language_info": {
   "codemirror_mode": {
    "name": "ipython",
    "version": 3
   },
   "file_extension": ".py",
   "mimetype": "text/x-python",
   "name": "python",
   "nbconvert_exporter": "python",
   "pygments_lexer": "ipython3",
   "version": "3.7.6"
  }
 },
 "nbformat": 4,
 "nbformat_minor": 4
}
