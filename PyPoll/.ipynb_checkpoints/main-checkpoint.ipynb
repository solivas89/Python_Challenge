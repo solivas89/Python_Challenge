{
 "cells": [
  {
   "cell_type": "code",
   "execution_count": 11,
   "metadata": {},
   "outputs": [],
   "source": [
    "import csv\n",
    "import os"
   ]
  },
  {
   "cell_type": "code",
   "execution_count": 12,
   "metadata": {},
   "outputs": [
    {
     "data": {
      "text/plain": [
       "'Resources\\\\election_data.csv'"
      ]
     },
     "execution_count": 12,
     "metadata": {},
     "output_type": "execute_result"
    }
   ],
   "source": [
    "election_path = os.path.join(\"Resources\", \"election_data.csv\")\n",
    "election_path"
   ]
  },
  {
   "cell_type": "code",
   "execution_count": 13,
   "metadata": {},
   "outputs": [],
   "source": [
    "#set counts\n",
    "total_votes = 0\n",
    "candidates = []\n",
    "candidates_tally = {}\n",
    "\n",
    "#reading csv file\n",
    "with open(election_path) as csvfile:\n",
    "    csvreader = csv.reader(csvfile, delimiter=\",\")\n",
    "    \n",
    "    #skipping header\n",
    "    header = next(csvreader)\n",
    "    \n",
    "    #counting total votes\n",
    "    for row in csvreader:\n",
    "        total_votes += 1\n",
    "        \n",
    "        #print list of candidates\n",
    "        name = row[2]\n",
    "        \n",
    "        if name not in candidates:\n",
    "            candidates.append(name)\n",
    "            candidates_tally[name] = 0\n",
    "        candidates_tally[name] += 1\n",
    "            \n",
    "# print(total_votes)\n",
    "# print(candidates)\n",
    "# print(candidates_tally)"
   ]
  },
  {
   "cell_type": "code",
   "execution_count": 14,
   "metadata": {},
   "outputs": [
    {
     "name": "stdout",
     "output_type": "stream",
     "text": [
      "Election Results\n",
      "-------------------------\n",
      "Total Votes: 3521001\n",
      "-------------------------\n",
      "Khan: 63.000% (2218231)\n",
      "Correy: 20.000% (704200)\n",
      "Li: 14.000% (492940)\n",
      "O'Tooley: 3.000% (105630)\n",
      "-------------------------\n",
      "Winner: Khan\n",
      "-------------------------\n"
     ]
    }
   ],
   "source": [
    "#create out path and txt file\n",
    "out_election = os.path.join(\"Analysis\",\"PyPoll.txt\")\n",
    "#set count\n",
    "winning_count = 0\n",
    "\n",
    "#writing csv file\n",
    "with open (out_election, \"w\") as datafile:\n",
    "    datafile.write(\"Election Results\\n\")\n",
    "    datafile.write(\"-------------------------\\n\")\n",
    "    datafile.write(f\"Total Votes: {total_votes}\\n\")\n",
    "    datafile.write(\"-------------------------\\n\")\n",
    "    \n",
    "    #printing in terminal\n",
    "    print(\"Election Results\")\n",
    "    print(\"-------------------------\")\n",
    "    print(f\"Total Votes: {total_votes}\")\n",
    "    print(\"-------------------------\")\n",
    "    \n",
    "    #calculate percentage, write to csv and print to terminal\n",
    "    for key, value in candidates_tally.items():\n",
    "        percentage = (value / total_votes) * 100\n",
    "        \n",
    "        #write % to 3 decimal places per instructions\n",
    "        datafile.write(f\"{key}: {percentage:.3f}% ({value})\\n\")\n",
    "        \n",
    "        #write % to 3 decimal places per instructions\n",
    "        print(f\"{key}: {percentage:.3f}% ({value})\")\n",
    "        \n",
    "        #still looping through and finding the winner\n",
    "        if value > winning_count:\n",
    "            winning_count = value\n",
    "            winner = key\n",
    "    \n",
    "    #writing csv file and printing in terminal\n",
    "    datafile.write(\"-------------------------\\n\")\n",
    "    print(\"-------------------------\")\n",
    "    datafile.write(f\"Winner: {winner}\\n\")\n",
    "    datafile.write(\"-------------------------\\n\")\n",
    "    print(f\"Winner: {winner}\")\n",
    "    print(\"-------------------------\")"
   ]
  },
  {
   "cell_type": "code",
   "execution_count": null,
   "metadata": {},
   "outputs": [],
   "source": []
  }
 ],
 "metadata": {
  "kernelspec": {
   "display_name": "Python 3",
   "language": "python",
   "name": "python3"
  },
  "language_info": {
   "codemirror_mode": {
    "name": "ipython",
    "version": 3
   },
   "file_extension": ".py",
   "mimetype": "text/x-python",
   "name": "python",
   "nbconvert_exporter": "python",
   "pygments_lexer": "ipython3",
   "version": "3.7.6"
  }
 },
 "nbformat": 4,
 "nbformat_minor": 4
}
